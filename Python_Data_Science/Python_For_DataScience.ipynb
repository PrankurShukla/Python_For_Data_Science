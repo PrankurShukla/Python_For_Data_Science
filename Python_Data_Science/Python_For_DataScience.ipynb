{
 "cells": [
  {
   "cell_type": "markdown",
   "id": "348e0752",
   "metadata": {},
   "source": [
    "# Booleans\n",
    "### (True or False ) Used in comparasion\n"
   ]
  },
  {
   "cell_type": "code",
   "execution_count": 1,
   "id": "6ab4075b",
   "metadata": {},
   "outputs": [
    {
     "name": "stdout",
     "output_type": "stream",
     "text": [
      "Not the same.\n"
     ]
    }
   ],
   "source": [
    "fI=32\n",
    "sI=23\n",
    "\n",
    "fS=\"Hello\"\n",
    "sS=\"Bye\"\n",
    "\n",
    "firstBoolean = True\n",
    "\n",
    "fI>10\n",
    "sS == fS\n",
    "\n",
    "\n",
    "if sI != sS: #if statement\n",
    "    print(\"Not the same.\")"
   ]
  },
  {
   "cell_type": "code",
   "execution_count": 2,
   "id": "c1b715b9",
   "metadata": {},
   "outputs": [
    {
     "data": {
      "text/plain": [
       "True"
      ]
     },
     "execution_count": 2,
     "metadata": {},
     "output_type": "execute_result"
    }
   ],
   "source": [
    "fI>10\n",
    ">>>"
   ]
  },
  {
   "cell_type": "markdown",
   "id": "04b22e22",
   "metadata": {},
   "source": [
    "# If/else Statements"
   ]
  },
  {
   "cell_type": "code",
   "execution_count": 3,
   "id": "3fe46bf6",
   "metadata": {},
   "outputs": [
    {
     "name": "stdout",
     "output_type": "stream",
     "text": [
      "Greater\n"
     ]
    }
   ],
   "source": [
    "fI=32\n",
    "sI=20\n",
    "\n",
    "if fI>sI:\n",
    "    print(\"Greater\")\n",
    "else:               # else will execute only after if condition is false \n",
    "    print(\"Lesser\")"
   ]
  },
  {
   "cell_type": "code",
   "execution_count": 4,
   "id": "0f5fca99",
   "metadata": {},
   "outputs": [
    {
     "name": "stdout",
     "output_type": "stream",
     "text": [
      "Affirmitave\n"
     ]
    }
   ],
   "source": [
    "fS = \"Test String\"\n",
    "sS = \"Test\"\n",
    "if sS in fS:\n",
    "    print(\"Affirmitave\")\n"
   ]
  },
  {
   "cell_type": "markdown",
   "id": "c813d1e7",
   "metadata": {},
   "source": [
    "### Elif staement"
   ]
  },
  {
   "cell_type": "code",
   "execution_count": 5,
   "id": "b7c162b3",
   "metadata": {},
   "outputs": [
    {
     "name": "stdout",
     "output_type": "stream",
     "text": [
      "None\n"
     ]
    }
   ],
   "source": [
    "x=40\n",
    "y=20\n",
    "\n",
    "if y>x:\n",
    "    print('greater')\n",
    "elif y==x:\n",
    "    print('equal')\n",
    "else:\n",
    "    print('None')"
   ]
  },
  {
   "cell_type": "markdown",
   "id": "8447421d",
   "metadata": {},
   "source": [
    "### Logic operations with if else"
   ]
  },
  {
   "cell_type": "code",
   "execution_count": 6,
   "id": "9235713c",
   "metadata": {
    "scrolled": true
   },
   "outputs": [
    {
     "name": "stdout",
     "output_type": "stream",
     "text": [
      "And returned typre\n"
     ]
    }
   ],
   "source": [
    "if y<x and x>35:\n",
    "    print('And returned typre')\n",
    "elif y>x or y>18:\n",
    "    print('Or returned type')\n",
    "else:\n",
    "    print('None')"
   ]
  },
  {
   "cell_type": "markdown",
   "id": "584fe961",
   "metadata": {},
   "source": [
    "# Try and Except Statements\n",
    "\n",
    "### Try/except logic :: \n",
    "**Similar to if/else. Attempts to run a block of code. If the code error, an except staemnet will run instead**"
   ]
  },
  {
   "cell_type": "code",
   "execution_count": 7,
   "id": "da5577c3",
   "metadata": {},
   "outputs": [
    {
     "name": "stdout",
     "output_type": "stream",
     "text": [
      "Divide by Zero\n"
     ]
    }
   ],
   "source": [
    "## Syntax try/except\n",
    "y=0\n",
    "x=20\n",
    "try:\n",
    "    result =x/y\n",
    "except ZeroDivisionError:\n",
    "    print('Divide by Zero')\n"
   ]
  },
  {
   "cell_type": "markdown",
   "id": "10136f87",
   "metadata": {},
   "source": [
    "### Finally Statements & error handling with traceback2"
   ]
  },
  {
   "cell_type": "code",
   "execution_count": null,
   "id": "b51d0cdf",
   "metadata": {},
   "outputs": [],
   "source": [
    "pip install traceback2\n",
    "# Installing TRACEBACK PACKAGE"
   ]
  },
  {
   "cell_type": "code",
   "execution_count": 8,
   "id": "c4529293",
   "metadata": {},
   "outputs": [
    {
     "name": "stdout",
     "output_type": "stream",
     "text": [
      "<class 'Exception'> division by zero\n",
      "executing finally clause\n"
     ]
    }
   ],
   "source": [
    "#Finally :: Statement will run no matter what after a try/except block\n",
    "import traceback2 #Package for knowing excpetion in our code\n",
    "\n",
    "x=22\n",
    "y=0\n",
    "\n",
    "try:\n",
    "    result = x/y\n",
    "except Exception as ex:\n",
    "    print(Exception, ex)\n",
    "else:\n",
    "    print(\"result is\", result)\n",
    "finally:\n",
    "    print(\"executing finally clause\")\n"
   ]
  },
  {
   "cell_type": "markdown",
   "id": "d7c8ad17",
   "metadata": {},
   "source": [
    "### Exceptions Types(default  python exceptions)\n",
    "REFER Python.org Documentation"
   ]
  },
  {
   "cell_type": "code",
   "execution_count": 9,
   "id": "87c65a8d",
   "metadata": {},
   "outputs": [],
   "source": [
    "#Exceptitions _> Errors raised during running of python code()"
   ]
  },
  {
   "cell_type": "code",
   "execution_count": 10,
   "id": "92dee594",
   "metadata": {},
   "outputs": [
    {
     "name": "stdout",
     "output_type": "stream",
     "text": [
      "Pick a lucky number12\n"
     ]
    }
   ],
   "source": [
    "#taking integr input from key board\n",
    "response =int(input(\"Pick a lucky number\"))\n"
   ]
  },
  {
   "cell_type": "markdown",
   "id": "0dd4d43d",
   "metadata": {},
   "source": [
    "# Data Types -> List & Tuples"
   ]
  },
  {
   "cell_type": "markdown",
   "id": "3c0c702c",
   "metadata": {},
   "source": [
    "**List** -> A mutable , ordered collection of variables, indexed by their position in the clollection.\\\n",
    "**Tuple**->An immutable , ordered collection of variables, indexed by their position in the collectiom.\\"
   ]
  },
  {
   "cell_type": "code",
   "execution_count": 11,
   "id": "95795ddd",
   "metadata": {},
   "outputs": [
    {
     "data": {
      "text/plain": [
       "[1, 2, 7, 'tree']"
      ]
     },
     "execution_count": 11,
     "metadata": {},
     "output_type": "execute_result"
    }
   ],
   "source": [
    "firstList=[]\n",
    "\n",
    "firstTuple=()\n",
    "\n",
    "firstList=[1,2,7]\n",
    "firstList.append(\"tree\") #append function takes one argument at a time\n",
    "\n",
    "firstList[0]\n",
    "\n",
    "firstList[0:4]\n"
   ]
  },
  {
   "cell_type": "code",
   "execution_count": 12,
   "id": "1e87d762",
   "metadata": {},
   "outputs": [
    {
     "data": {
      "text/plain": [
       "[1, 2, 7, 'tree', 'house']"
      ]
     },
     "execution_count": 12,
     "metadata": {},
     "output_type": "execute_result"
    }
   ],
   "source": [
    "firstList +[\"house\"] # adding two list"
   ]
  },
  {
   "cell_type": "code",
   "execution_count": 13,
   "id": "2d29bc39",
   "metadata": {},
   "outputs": [],
   "source": [
    "firstList=[3,1,8]\n"
   ]
  },
  {
   "cell_type": "code",
   "execution_count": 14,
   "id": "fb282a5f",
   "metadata": {},
   "outputs": [
    {
     "data": {
      "text/plain": [
       "[1, 3, 8]"
      ]
     },
     "execution_count": 14,
     "metadata": {},
     "output_type": "execute_result"
    }
   ],
   "source": [
    "firstList.sort() #sort function\n",
    "firstList"
   ]
  },
  {
   "cell_type": "code",
   "execution_count": 15,
   "id": "2d86f28b",
   "metadata": {},
   "outputs": [
    {
     "data": {
      "text/plain": [
       "1"
      ]
     },
     "execution_count": 15,
     "metadata": {},
     "output_type": "execute_result"
    }
   ],
   "source": [
    "fT=(4,7,9) #tuple we can find index\n",
    "fT.index(7)\n"
   ]
  },
  {
   "cell_type": "markdown",
   "id": "c78a069f",
   "metadata": {},
   "source": [
    "# Data Structure -> Dictionary \n",
    "**Dictionary** ->Similar to JSON(Jva script onject notation)."
   ]
  },
  {
   "cell_type": "code",
   "execution_count": 16,
   "id": "af4234aa",
   "metadata": {},
   "outputs": [
    {
     "data": {
      "text/plain": [
       "dict_values([20, 'Prankur', 160])"
      ]
     },
     "execution_count": 16,
     "metadata": {},
     "output_type": "execute_result"
    }
   ],
   "source": [
    "firstDict={} #synatx for initiliasing empty dictionary\n",
    "\n",
    "firstDict = {\"age\":20,\"name\":\"Prankur\"} #Key and value seperated by : and elements by ,\n",
    "\n",
    "firstDict[\"age\"]\n",
    "\n",
    "firstDict[\"height\"]=160\n",
    "\n",
    "firstDict.keys()\n",
    "\n",
    "firstDict.values()"
   ]
  },
  {
   "cell_type": "code",
   "execution_count": 17,
   "id": "181da932",
   "metadata": {},
   "outputs": [
    {
     "data": {
      "text/plain": [
       "20"
      ]
     },
     "execution_count": 17,
     "metadata": {},
     "output_type": "execute_result"
    }
   ],
   "source": [
    "firstDict.pop(\"age\")"
   ]
  },
  {
   "cell_type": "code",
   "execution_count": 18,
   "id": "eb63b147",
   "metadata": {},
   "outputs": [
    {
     "data": {
      "text/plain": [
       "{'name': 'Prankur', 'height': 160}"
      ]
     },
     "execution_count": 18,
     "metadata": {},
     "output_type": "execute_result"
    }
   ],
   "source": [
    "firstDict"
   ]
  },
  {
   "cell_type": "code",
   "execution_count": 19,
   "id": "50c7d604",
   "metadata": {},
   "outputs": [
    {
     "data": {
      "text/plain": [
       "dict_items([('name', 'Prankur'), ('height', 160)])"
      ]
     },
     "execution_count": 19,
     "metadata": {},
     "output_type": "execute_result"
    }
   ],
   "source": [
    "firstDict.items()"
   ]
  },
  {
   "cell_type": "markdown",
   "id": "c4841a76",
   "metadata": {},
   "source": [
    "# Looping(Indentation is imp. in Python)"
   ]
  },
  {
   "cell_type": "code",
   "execution_count": 20,
   "id": "bf8eeec8",
   "metadata": {},
   "outputs": [
    {
     "name": "stdout",
     "output_type": "stream",
     "text": [
      "3\n",
      "7\n",
      "-1\n",
      "14\n",
      "H\n",
      "e\n",
      "l\n",
      "l\n",
      "o\n",
      "!\n",
      "age 20\n",
      "name Prankur\n"
     ]
    }
   ],
   "source": [
    "#For loop a mrthod to iterate over a dictionary, list and strings\n",
    "\n",
    "newList=[1,5,-3,12]\n",
    "\n",
    "for element in newList: #element is iterative varible\n",
    "    print(element+2)\n",
    "    \n",
    "newString=\"Hello!\"\n",
    "\n",
    "for character in newString: #charccter is iterative variable\n",
    "    print(character)\n",
    "\n",
    "newDict={\"age\":20,\"name\":\"Prankur\"}\n",
    "\n",
    "for theKey in newDict:\n",
    "    print(theKey,newDict[theKey])"
   ]
  },
  {
   "cell_type": "code",
   "execution_count": 21,
   "id": "05439f56",
   "metadata": {},
   "outputs": [
    {
     "name": "stdout",
     "output_type": "stream",
     "text": [
      "Looping, 0\n",
      "Looping, 1\n",
      "Looping, 2\n",
      "Looping, 3\n",
      "Looping, 4\n",
      "Looping, 5\n",
      "Looping, 6\n",
      "Looping, 7\n",
      "Looping, 8\n",
      "Looping, 9\n",
      "10\n"
     ]
    }
   ],
   "source": [
    "#While loops ->iterate as long as conditional statement is true\n",
    "\n",
    "i=0\n",
    "\n",
    "while i<10:       \n",
    "    print(\"Looping,\",i) \n",
    "    i+=1 \n",
    "print(i)"
   ]
  },
  {
   "cell_type": "code",
   "execution_count": 22,
   "id": "8ba5b331",
   "metadata": {},
   "outputs": [
    {
     "name": "stdout",
     "output_type": "stream",
     "text": [
      "looping 0\n",
      "looping 1\n",
      "looping 2\n",
      "looping 3\n",
      "looping 4\n",
      "looping 5\n",
      "looping 6\n",
      "looping 7\n",
      "looping 8\n",
      "looping 9\n"
     ]
    }
   ],
   "source": [
    "i=0\n",
    "while (i<10) or (i%2==1):\n",
    "    print(\"looping\",i)\n",
    "    i+=1"
   ]
  },
  {
   "cell_type": "code",
   "execution_count": 23,
   "id": "fc664aae",
   "metadata": {},
   "outputs": [
    {
     "name": "stdout",
     "output_type": "stream",
     "text": [
      "0 even\n",
      "2 even\n",
      "3 three\n"
     ]
    }
   ],
   "source": [
    "#continue - statement that tells for loop to begin next iteration , even if there is more code that could be run\n",
    "#break - statement that cancels all remaining iterations of the loop \n",
    "#pass  - statemnet that is used as a placeholder when building logic\n",
    "for x in range(0,11,1):\n",
    "    if x % 2 ==0:\n",
    "        print(x,\"even\")\n",
    "    elif x ==3:\n",
    "        print(x,\"three\")\n",
    "        break\n",
    "    else:\n",
    "        pass"
   ]
  },
  {
   "cell_type": "markdown",
   "id": "68eb1a7f",
   "metadata": {},
   "source": [
    "# List/Dictionary comprehensions\n",
    "**List/dictionary comprehension** : A way to generate or manipulate a list/dictionary using a for loop in one line."
   ]
  },
  {
   "cell_type": "code",
   "execution_count": 24,
   "id": "1d814a3a",
   "metadata": {},
   "outputs": [
    {
     "name": "stdout",
     "output_type": "stream",
     "text": [
      "20 [0.14625472 0.38774764 0.54905346 0.67190958 0.54921468 0.07098687\n",
      " 0.12932004 0.07199645 0.08767042 0.061404   0.1121487  0.2199122\n",
      " 0.15022501 0.76542272 0.73172012 0.71304199 0.07257534 0.33621072\n",
      " 0.1024768  0.43703667]\n",
      "20 ['Less', 'Less', 0.5490534605661764, 0.6719095775747351, 0.5492146788138123, 'Less', 'Less', 'Less', 'Less', 'Less', 'Less', 'Less', 'Less', 0.7654227181755644, 0.7317201222975874, 0.71304199197699, 'Less', 'Less', 'Less', 'Less']\n",
      "{0: 'Less', 1: 'Less', 2: 0.5490534605661764, 3: 0.6719095775747351, 4: 0.5492146788138123, 5: 'Less', 6: 'Less', 7: 'Less', 8: 'Less', 9: 'Less', 10: 'Less', 11: 'Less', 12: 'Less', 13: 0.7654227181755644, 14: 0.7317201222975874, 15: 0.71304199197699, 16: 'Less', 17: 'Less', 18: 'Less', 19: 'Less'}\n"
     ]
    }
   ],
   "source": [
    "#Syntax\n",
    "import numpy as np\n",
    "\n",
    "data = np.random.rand(20) # rand generate numbers between (0 to 1)\n",
    "print(len(data),data)\n",
    "data=[x if x>0.5 else \"Less\" for x in data] # List comphrehension\n",
    "print(len(data),data)\n",
    "\n",
    "# in enumerate func. gives a List of tuples eg.[(0,0.5),(1,0.6),(0,1.3)]\n",
    "dataDict = {ind:x for ind, x in enumerate(data)} # Dictionary comprehension\n",
    "print(dataDict)\n",
    "\n",
    "# data[x for x in data if x>0.5]\n",
    "#print(len(data),data)"
   ]
  },
  {
   "cell_type": "markdown",
   "id": "136debe2",
   "metadata": {},
   "source": [
    "## TASK"
   ]
  },
  {
   "cell_type": "code",
   "execution_count": null,
   "id": "ed729fe8",
   "metadata": {},
   "outputs": [
    {
     "name": "stdout",
     "output_type": "stream",
     "text": [
      "How many games would you like to play1\n",
      "Pick a number12\n",
      "Too low.\n",
      "Pick a number23\n",
      "Too low.\n"
     ]
    }
   ],
   "source": [
    "# TASK\n",
    "#Cretae a game of guess the number\n",
    " #Create script that will ask the user how many games they would like to play\n",
    " #For every game , ask player to select a random number b/w 1 to 25\n",
    " #Inform Player if their guess is higher or lower\n",
    " #Build a loop statement that will iterate number of games and number picked \n",
    " #When a user guesses right,tell them how many guesses it took\n",
    "import numpy as np\n",
    "import random\n",
    "\n",
    "games = '' #empty variable\n",
    "\n",
    "#Establish how many games to be played\n",
    "while games =='':\n",
    "    try:\n",
    "        games = int(input(\"How many games would you like to play\"))\n",
    "    except:\n",
    "        print(\"please select a number\")\n",
    "        continue\n",
    "for game in range(0,games):\n",
    "    #Guessing game begins:\n",
    "    pick = random.randint(1,26)\n",
    "    guess = None\n",
    "    attempts = 0\n",
    "    \n",
    "    while pick != guess:\n",
    "        try:\n",
    "            guess = int(input(\"Pick a number\"))\n",
    "        except:\n",
    "            print(\"Please select using a number\")\n",
    "            continue\n",
    "        #count the attempts of failed guess\n",
    "        if guess !=pick:\n",
    "            attempts+=1\n",
    "        \n",
    "            #determine if guess was high/low\n",
    "            if guess>pick:\n",
    "                print(\"Too high.\")\n",
    "            else:\n",
    "                print(\"Too low.\")\n",
    "        else:\n",
    "            print(\"You are correct!It only took you this mamy attempts\",attempts)\n",
    "\n"
   ]
  },
  {
   "cell_type": "markdown",
   "id": "79e67b15",
   "metadata": {},
   "source": [
    "# Functions"
   ]
  },
  {
   "cell_type": "code",
   "execution_count": null,
   "id": "4c889b59",
   "metadata": {},
   "outputs": [],
   "source": [
    "def addTen(param1):\n",
    "    #Do stuff\n",
    "    if type(param1) != int:\n",
    "        pass\n",
    "    else:\n",
    "        print(\"Integer found\")\n",
    "        return param1+10\n",
    "addTen(3)"
   ]
  },
  {
   "cell_type": "markdown",
   "id": "ae0301be",
   "metadata": {},
   "source": [
    "### Function Parameter and Scope\n",
    "**args** -> Parameter you can set when defining a function to allow it to recieve an infinite amount of ordered values.\\\n",
    "**kwargs** -> Parameters that you can set when defining a function to recieve an infinite amount of keyword variables. <br>\n",
    "**Local Variable**-> A variable that is visible within a function. <br>**Global variable**-> A variable that is visible throught the program."
   ]
  },
  {
   "cell_type": "code",
   "execution_count": null,
   "id": "d3be158b",
   "metadata": {},
   "outputs": [],
   "source": [
    "x=5\n",
    "\n",
    "def scopeTest():\n",
    "    global x  # if x is not made global then interpretter confuse it in local varibale\n",
    "    print(x)\n",
    "    print(x+5)\n",
    "    x+=1\n",
    "    \n",
    "scopeTest()\n",
    "\n",
    "def argsTest(*args): # all parameter in one command\n",
    "    print(type(args))\n",
    "    for arg in args:\n",
    "        print(arg)\n",
    "        \n",
    "argsTest(3,5,\"tree\")        \n",
    "\n",
    "def kwargsTest(**kwargs):\n",
    "    print(type(kwargs))\n",
    "    print(kwargs)\n",
    "    for arg in kwargs.items():\n",
    "        print(arg)\n",
    "kwargsTest(x=3, y=5)"
   ]
  },
  {
   "cell_type": "markdown",
   "id": "1ac1d920",
   "metadata": {},
   "source": [
    "# Package and Pip\n",
    "**Python-twich** -> one Package from github.com"
   ]
  },
  {
   "cell_type": "code",
   "execution_count": null,
   "id": "7f801721",
   "metadata": {},
   "outputs": [],
   "source": [
    "pip install python-twitch #installing python-twitch\n",
    "pip install pandas  # installing pandas\n",
    "#These commands are not for python interepretter , these will work in terminal.."
   ]
  },
  {
   "cell_type": "markdown",
   "id": "6398f424",
   "metadata": {},
   "source": [
    "# Reading files and the with statement"
   ]
  },
  {
   "cell_type": "code",
   "execution_count": null,
   "id": "96b7de9d",
   "metadata": {},
   "outputs": [],
   "source": [
    "\n",
    "f = open(\"auto_mpg.csv\",'r')\n",
    "\n",
    "for line in f:\n",
    "    print(line)\n",
    "    \n",
    "    \n",
    "#r = read\n",
    "#w = write\n",
    "#a = append\n",
    "\n"
   ]
  },
  {
   "cell_type": "code",
   "execution_count": null,
   "id": "d7ad1b2e",
   "metadata": {},
   "outputs": [],
   "source": [
    "import numpy as np\n",
    "import csv\n",
    "f = open(\"auto_mpg.csv\",'r')\n",
    "\n",
    "f = csv.reader(open(\"auto_mpg.csv\",'r'), delimiter= ';')\n",
    "next(f) #skip the header\n",
    "for line in f:\n",
    "    print(line)\n",
    "    break\n",
    "    \n",
    "    \n"
   ]
  },
  {
   "cell_type": "code",
   "execution_count": null,
   "id": "62cc7920",
   "metadata": {},
   "outputs": [],
   "source": [
    "with open(\"auto_mpg.csv\",'r') as f:  # with -> one line at a time execute in loop\n",
    "    data = list(csv.reader(f,delimiter=';'))\n",
    "    data=np.array(data[10:])\n",
    "    for line in data:\n",
    "        print(line)\n",
    "        break\n",
    "        \n",
    "        "
   ]
  },
  {
   "cell_type": "markdown",
   "id": "2ddbf225",
   "metadata": {},
   "source": [
    "# Writing out to a file\n",
    "**Delimiter.join** -> will conert a list into a string with each value seperated by whatever string you pass through the delimiter in quotations.\n",
    "<br>\n",
    "**map()**->Converts each element of a list into a new variable type."
   ]
  },
  {
   "cell_type": "code",
   "execution_count": null,
   "id": "afe4295b",
   "metadata": {},
   "outputs": [],
   "source": [
    "import csv \n",
    "f=open(\"auto_mpg.csv\",'w') #creates file\n",
    "f.write(\"my first file\\n\")#writes information into file\n",
    "f.close() #Close file"
   ]
  },
  {
   "cell_type": "code",
   "execution_count": null,
   "id": "dc37356b",
   "metadata": {},
   "outputs": [],
   "source": [
    "fOut = open(\"auto_mpg.csv\",'w')\n",
    "\n",
    "with open(\"auto_mpg.csv\",'r') as fIn:\n",
    "    \n",
    "    data = list(csv.reader(fIn,delimiter=';'))\n",
    "    data = np.array(data[1:]) #Excluding header\n",
    "    \n",
    "    for line in data:\n",
    "        if float(line[0])>=7.0:\n",
    "                 line = [float(x)*10 for x in line]\n",
    "        dataOut ='\\t'.join(map(str,line))\n",
    "        fOut.write(dataOut + \"\\n\")\n",
    "        break\n",
    "fOut.close()"
   ]
  },
  {
   "cell_type": "markdown",
   "id": "a911e129",
   "metadata": {},
   "source": [
    "# Pandas and data Frames\n",
    "**Dataframes**-> An object that represents a table of data.Contains rows and columns that can be accessed and indexed. "
   ]
  },
  {
   "cell_type": "code",
   "execution_count": null,
   "id": "1376ffaa",
   "metadata": {},
   "outputs": [],
   "source": [
    "import pandas as pd\n",
    "\n",
    "df =pd.read_csv('auto_mpg.csv')\n",
    "df # This will print data in atabular form\n",
    "\n",
    "# df[1:3] -> Print 1st and 2nd row it give all column infor for row\n",
    "\n"
   ]
  },
  {
   "cell_type": "code",
   "execution_count": null,
   "id": "f5e659f3",
   "metadata": {
    "scrolled": true
   },
   "outputs": [],
   "source": [
    "df.loc[1:3,[\"name\",\"weight\"]] #we give column that we want here "
   ]
  },
  {
   "cell_type": "code",
   "execution_count": null,
   "id": "a9471178",
   "metadata": {},
   "outputs": [],
   "source": [
    "for index, values in df.iterrows():\n",
    "    print(index,values) #for better representation make 'list' of value []\n"
   ]
  },
  {
   "cell_type": "markdown",
   "id": "49ffca54",
   "metadata": {},
   "source": [
    "**Append**-> Add row to a dataframe.<br>\n",
    "**Concatenation**->Merge dataframes together.<br>\n",
    "**Replace**->Replace values in a dataframe."
   ]
  },
  {
   "cell_type": "code",
   "execution_count": null,
   "id": "45bcab43",
   "metadata": {},
   "outputs": [],
   "source": [
    "df2 =pd.read_csv(\"auto_mpg.csv\")\n",
    "df2.head() #shows first five rows\n",
    "df2.tail() #shows last five rows\n",
    "#inside parameter one can specify no. of output rows by default it returns 5.\n",
    "\n",
    "df.replace[125,250][130,225] #this will replace 125 with 130 and 250 with 255.\n",
    "\n",
    "df.loc[(df['mpg'] > 30)] # locate those rows with mpg value greater than 30.\n",
    "\n",
    "df.append(df[1:3]) #adding rows to dataframe \n",
    "\n",
    "df.rename(columns={\"mpg\":\"MPG\"}) #change column name \n",
    "\n",
    "pd.concat([df,df2]) # concatination\n",
    "\n",
    "pd.fillna(0) # fill all Nan entry with 0.\n",
    "\n",
    "df.to_csv(\"newCsv.csv\") #export file as csv file to given location"
   ]
  },
  {
   "cell_type": "markdown",
   "id": "1b7f0c62",
   "metadata": {},
   "source": [
    "# Introduction to Basic Statistics \n",
    "**Data types**->Nominal,Ordinal,Interval,Ratio.<br>\n",
    "**Mean**->      Avg. value in a list of integers or float.<br>\n",
    "**Median**- >   Centrally positioned value in a list of integers or float.<br>\n",
    "**Mode**->      Most commonly observed value in list.\n"
   ]
  },
  {
   "cell_type": "code",
   "execution_count": null,
   "id": "e55dce45",
   "metadata": {},
   "outputs": [],
   "source": [
    "## Nominal Data (talks about categories)\n",
    " # favourite color , sex etc.\n",
    "nominal = [\"Male\",\"Female\"] # Lablelled data\n",
    "\n",
    "## ordinal Data (similar to nominal data , each lable has some additional meaning 1>2 but can't tell differnce b/w 1 &2)\n",
    " # Race position outcomes\n",
    "ordinal =[1,5,2,3,6,8,3,1,2]\n",
    "\n",
    "## Interval Data\n",
    " #Temperature\n",
    "interval = [20.9,31.0,-23.3] # bascic understanding of data but it is not has exact 0.\n",
    "\n",
    "## Ratio data (similar to interval data but has exact 0)\n",
    " #weight,height\n",
    "ratio = [130,0,200]\n"
   ]
  },
  {
   "cell_type": "code",
   "execution_count": null,
   "id": "c45b4f8f",
   "metadata": {},
   "outputs": [],
   "source": [
    "from numpy import random\n",
    "#x=random.randint(0,100,size=50) #create random integer\n",
    "len(x)\n",
    "sorted(x) # sorted number\n",
    "sorted(x,reverse=True) #sorted in reverse order\n",
    "\n",
    "#Mean of number\n",
    "sum(x)/len(x)\n",
    "\n",
    "from numpy import mean,median\n",
    "mean(x)                #numpy function to calculate mean\n",
    "\n",
    "median(x)              # for median\n",
    "\n"
   ]
  },
  {
   "cell_type": "markdown",
   "id": "a1211b48",
   "metadata": {},
   "source": [
    "# Some Imp. Terms\n",
    " **Standard Deviation**-> the amount of variation or dispersion of a list of data values.<br> **Normal distributions** -> A very commonly occuring pattern of observations in all qunattitive fields."
   ]
  },
  {
   "cell_type": "markdown",
   "id": "d7c3a99e",
   "metadata": {},
   "source": [
    "# Practical Analysis\n",
    "**T-test**-> COmpares whether the differences of means from two nominal groups are significantly different.<br>\n",
    "**Linear Regression**-> Compares whether one list of ratio values can explain(or predict) the relationship of another list of ratio values.<br>\n",
    "**P-value**->Number that says how likely your results were not"
   ]
  },
  {
   "cell_type": "code",
   "execution_count": null,
   "id": "6abc4f0d",
   "metadata": {},
   "outputs": [],
   "source": [
    "import scipy as sp\n",
    "from numpy import random\n",
    "\n",
    "boys = random.randint(0,100,size=50)\n",
    "\n",
    "girls = random.randint(40,100,size=50)\n",
    "\n",
    "\n",
    "sp.stats.ttest_ind(boys,girls) # ttest\n",
    "\n",
    " icecream sales given temperature and do linaer regression test\n",
    "temperature = random.randint(0,100,size=50)\n",
    "icecream = random.randint(40,100,size=50)\n",
    " \n",
    "sp.stats.linregress(temperature,icecream) #return slope,intercept, r_value, p_value, std_err, intercept _stderr "
   ]
  },
  {
   "cell_type": "markdown",
   "id": "a33cee6c",
   "metadata": {},
   "source": [
    "# Introduction  to Data Visualization\n",
    "**Histograms**->A visual representation of a distribution of data."
   ]
  },
  {
   "cell_type": "code",
   "execution_count": null,
   "id": "e54df0f6",
   "metadata": {},
   "outputs": [],
   "source": [
    "import matplotlib.pyplot as plt\n",
    "\n",
    "#data for plotting\n",
    "\n",
    "x = [1,2,3]\n",
    "y = [3,5,7]\n",
    "\n",
    "fig , ax =plt.subplots() #1st create window and 2nd create axis(what to put inti window),plot multiple graphs in 1 fig. 3 arg ->1st->row, 2nd->column 3rd->no.\n",
    "ax.plot(x, y) #plot function -> continous line b/w points\n",
    "\n",
    "plt.show()\n"
   ]
  },
  {
   "cell_type": "code",
   "execution_count": null,
   "id": "26e0afae",
   "metadata": {
    "scrolled": true
   },
   "outputs": [],
   "source": [
    "import numpy as np\n",
    "import matplotlib.pyplot as plt\n",
    "\n",
    "x=np.random.uniform(low=0,high=10,size=50) #uniform give us floating point number\n",
    "y=np.random.uniform(low=7,high=10,size=50)\n",
    "\n",
    "fig ,ax =plt.subplots()\n",
    "\n",
    "#Axes and Ticks\n",
    "ax.margins(x=0,y=0) #Add padding to a plot\n",
    "\n",
    "ax.axis('equal') #set the aspect ratio of plot to 1\n",
    "\n",
    "ax.set(xlim=[5.0,10.0],ylim=[0,10]) #Set limits for x- and y-axis\n",
    "\n",
    "ax.xaxis.set(ticks=range(1,5),ticklabels=[3,100,-12,\"foo\"])\n",
    "\n",
    "ax.grid()\n",
    "\n",
    "plt.scatter(x,y)\n",
    "plt.show()\n",
    "\n",
    "\n",
    "#Subplotting\n",
    "#_________________________________________________________________________________________________________________________________\n",
    "fig ,ax =plt.subplots(2,1)\n",
    "\n",
    "#Plot 1\n",
    "plt.subplot(2,1,1)\n",
    "plt.plot(x,y,'o')\n",
    "plt.title('2 subplots')\n",
    "plt.ylabel('Test 1 Score')\n",
    "\n",
    "#Plot 2\n",
    "plt.subplot(2,1,2)\n",
    "plt.plot(y,x,'.-')\n",
    "plt.xlabel('Students Number')\n",
    "plt.ylabel('Test 2 Score')\n",
    "\n",
    "plt.show()\n",
    "\n",
    "#plt.savefig('foo.png')"
   ]
  },
  {
   "cell_type": "markdown",
   "id": "ad17b9f4",
   "metadata": {},
   "source": [
    "### Scatterplots and Pandas\n",
    "**Scatterplot**-> Histogram that places a marker on a Cartesian(x,y) coordinate system."
   ]
  },
  {
   "cell_type": "code",
   "execution_count": null,
   "id": "e94a0f9c",
   "metadata": {},
   "outputs": [],
   "source": [
    "import numpy as np\n",
    "import matplotlib.pyplot as plt\n",
    "import pandas as pd\n",
    "\n",
    "## Make plot with pandas df\n",
    "\n",
    "df = pd.DataFrame({\n",
    "    'name':['john','mary','peter','jeff','bill','lisa','jose'],\n",
    "    'age':[23,78,22,19,45,33,20],\n",
    "    'gender':['M','F','M','M','M','F','M'],\n",
    "    'state':['california','dc','california','dc','california','texas','texas'],\n",
    "    'num_children':[2,0,0,3,2,1,4],\n",
    "    'num_pets':[5,1,0,5,2,2,3]\n",
    "})\n",
    "\n",
    "#df.plot(x=\"age\",y=\"num_pets\")\n",
    "\n",
    "x=df['age'].tolist()      #extractinh info. from pandas dataframe\n",
    "y=df['num_pets'].tolist()\n",
    "fig,ax =plt.subplots()\n",
    "ax.scatter(x,y)\n",
    "ax.grid(True)\n",
    "plt.show()"
   ]
  },
  {
   "cell_type": "code",
   "execution_count": null,
   "id": "91de5c3f",
   "metadata": {},
   "outputs": [],
   "source": [
    "# Scatter plot features and styling\n",
    "\n",
    "import numpy as np\n",
    "import matplotlib.pyplot as plt\n",
    "import pandas as pd\n",
    " \n",
    "np.random.seed(5000)  # same randomly selected number every run time\n",
    "\n",
    "N=50\n",
    "x=np.random.rand(N)\n",
    "y=np.random.rand(N)\n",
    "\n",
    "colours = np.random.rand(N)\n",
    "area = (30*np.random.rand(N))**2\n",
    "\n",
    "plt.scatter(x,y ,s=area, c=colours, alpha=0.54)\n",
    "\n",
    "plt.show()"
   ]
  },
  {
   "cell_type": "markdown",
   "id": "6c5e9f0b",
   "metadata": {},
   "source": [
    "### Bar graph \n",
    "Histogram that shows nominal or ordinal categories(x-axis) with interval/ratio values(y-axis)"
   ]
  },
  {
   "cell_type": "code",
   "execution_count": null,
   "id": "4cfcead4",
   "metadata": {},
   "outputs": [],
   "source": [
    "import numpy as np\n",
    "import matplotlib.pyplot as plt\n",
    "\n",
    "## Bar plots\n",
    "languages = ['Python','C++','Java','Perl','Scala','Lisp']\n",
    "performance=[10,8,6,4,2,1]\n",
    "\n",
    "plt.bar(languages,performance,alpha=0.5)\n",
    "plt.ylabel('Usage')\n",
    "plt.title('Programming language usage')\n",
    "plt.show()"
   ]
  },
  {
   "cell_type": "code",
   "execution_count": null,
   "id": "1ae8c5fd",
   "metadata": {},
   "outputs": [],
   "source": [
    "import numpy as np\n",
    "import matplotlib.pyplot as plt\n",
    "from matplotlib.ticker import MaxNLocator\n",
    "from collections import namedtuple\n",
    "\n",
    "#Establishing variables\n",
    "n_groups = 5\n",
    "\n",
    "means_men =(20,35,30,35,27)\n",
    "std_men = (2,3,4,1,2)\n",
    "\n",
    "means_women = (25,32,34,20,25)\n",
    "std_women = (3,5,2,3,3)\n",
    "\n",
    "fig,ax =plt.subplots()\n",
    "\n",
    "index = np.arange(n_groups)\n",
    "\n",
    "bar_width = 0.35\n",
    "opacity = 0.4\n",
    "\n",
    "rectsl = ax.bar(index, means_men,bar_width,\n",
    "               alpha=opacity,color='b',\n",
    "               label='Mean')\n",
    "\n",
    "rects2 = ax.bar(index+bar_width,means_women,bar_width,\n",
    "               alpha=opacity,color='r',\n",
    "               label='Women')\n",
    "\n",
    "ax.set_xlabel('Group')\n",
    "ax.set_ylabel('Scores')\n",
    "ax.set_title('Scores by group and gender')\n",
    "ax.set_xticks(index+bar_width/2)\n",
    "ax.set_xticklabels(('A','B','C','D','E'))\n",
    "ax.legend()\n",
    "\n",
    "fig.tight_layout()\n",
    "plt.show()"
   ]
  },
  {
   "cell_type": "markdown",
   "id": "b23c8269",
   "metadata": {},
   "source": [
    "### Task\n",
    "Conduct and plot a linear regression<br>\n",
    "Access iris dataset from sk-learn<br>\n",
    "Select sepal length as your independent variable and width as your dependent variable.<br>\n",
    "Evaluate the rsult of your modelling:<br>\n",
    "Tell me why your model is significant, as well as what the slope and intercept of your line are<br>\n",
    "Define and me what your r-value means. What does it say about the effect size of your model.<br>\n",
    "Include two or more stylistic changes"
   ]
  },
  {
   "cell_type": "code",
   "execution_count": null,
   "id": "337b685a",
   "metadata": {},
   "outputs": [],
   "source": [
    "import numpy as np\n",
    "import matplotlib.pyplot as plt\n",
    "import pandas as pd\n",
    "from scipy import stats\n",
    "from sklearn.datasets import load_iris\n",
    "\n",
    "iris=load_iris()\n",
    "#print(iris)\n",
    "\n",
    "df=pd.DataFrame(data=np.c_[iris['data'],iris['target']],\n",
    "                      columns=iris['feature_names']+['target'])\n",
    "\n",
    "#print(df)\n",
    "\n",
    "#print(list(df))\n",
    "y=df['sepal width (cm)']\n",
    "x =df['sepal length (cm)']\n",
    "\n",
    "##CREATES SLOPE LINE FOR GRAPH\n",
    "fit = np.polyfit(x,y,1) #create regression line of best fit\n",
    "#print(fit)\n",
    "fit_fn = np.poly1d(fit)\n",
    "#print(fit_fn)\n",
    "\n",
    "#PLOTTING GRAPH\n",
    "\n",
    "fig,ax = plt.subplots()\n",
    "plt.plot(x,y,'ro', x,fit_fn(x), '--k')\n",
    "plt.ylabel('Sepal width')\n",
    "plt.xlabel('Sepal length')\n",
    "plt.title('Iris Data')\n",
    "ax.grid()\n",
    "plt.show()\n",
    "\n",
    "##\n",
    "slope,intercept,r_value,p_value,std_err = stats.linregress(x,y)\n",
    "print(\"The r-value is:\",r_value)\n",
    "print(\"The p-value is:\",p_value)"
   ]
  },
  {
   "cell_type": "markdown",
   "id": "c281049b",
   "metadata": {},
   "source": [
    "# Web Scrapping and HTML\n",
    "**Requests**->Python package for retrieving information from websites.<br>\n",
    "**BeautifulSoup4(NLP package also)**->Package designed to parse HTML source code."
   ]
  },
  {
   "cell_type": "code",
   "execution_count": null,
   "id": "937ee29f",
   "metadata": {
    "scrolled": true
   },
   "outputs": [],
   "source": [
    "#Code in order to extract code from website\n",
    "import requests\n",
    "from bs4 import BeautifulSoup as bs\n",
    "\n",
    "url =[\"https://assets.digitalocean.com/articles/eng_python/beautiful-soup/mockturtle.html\"]\n",
    "\n",
    "for link in url:\n",
    "    r =requests.get(link)\n",
    "    print(r)\n",
    "    \n",
    "    if r.status_code !=200: #stsus code is 200 for successful request\n",
    "        print(\"Link failed\",link)\n",
    "        continue\n",
    "   \n",
    "    page=r.text #type page ='str'\n",
    "    soup=bs(page,'html.parser')\n",
    "    #print(type(soup))\n",
    "  \n",
    "    "
   ]
  },
  {
   "cell_type": "markdown",
   "id": "5339a490",
   "metadata": {},
   "source": [
    "#### Scrapping data from HTML"
   ]
  },
  {
   "cell_type": "code",
   "execution_count": null,
   "id": "2d9449c1",
   "metadata": {},
   "outputs": [],
   "source": [
    "import requests\n",
    "from bs4 import BeautifulSoup as bs\n",
    "import json\n",
    "\n",
    "url =[\"https://assets.digitalocean.com/articles/eng_python/beautiful-soup/mockturtle.html\"]\n",
    "\n",
    "for link in url:\n",
    "    r =requests.get(link)\n",
    "   # print(r)\n",
    "    \n",
    "    if r.status_code !=200: #stsus code is 200 for successful request\n",
    "        print(\"Link failed\",link)\n",
    "        continue\n",
    "   \n",
    "    page=r.text #type page ='str'\n",
    "    soup=bs(page,'html.parser')\n",
    "    \n",
    "    lyrics = soup.find_all('p') #provide everthing b/e <p>and </p>\n",
    "    #   lyrics = soup.find_all(\"p\",{\"class\":\"verse\"})\n",
    "    lyricsDict ={}\n",
    "    \n",
    "    for stanza in lyrics:\n",
    "        sKey = str(lyrics.index(stanza)+1)\n",
    "        lyricsDict[sKey] = stanza.text\n",
    "\n",
    "print(lyricsDict)\n",
    "\n",
    "json.dump(lyricsDict,open('lyricsDict.json','w'))"
   ]
  },
  {
   "cell_type": "code",
   "execution_count": null,
   "id": "2522e697",
   "metadata": {},
   "outputs": [],
   "source": [
    "### TASK\n",
    "# Go to URL \"https://www.rankingthebrands.com/Brand-detail.aspx?brandID=\"and scrap data from 10 companies\n",
    "#Use the request and beautifulsoup to scraoe the following information:\n",
    "#Company name, award won, year of award,award ranking\n",
    "#Save the result to csv\n",
    "\n",
    "import requests\n",
    "from bs4 import BeautifulSoup as bs\n",
    "\n",
    "url=[\"https://www.rankingthebrands.com/Brand-detail.aspx?brandID=\"]\n",
    "open(\"chapter8Data.csv\",'w')\n",
    "\n",
    "pageID=range(1,6)\n",
    "\n",
    "for link in pageID:\n",
    "    r=requests.get(url+str(link))\n",
    "    \n",
    "    \n",
    "    if r.status_code != 200:\n",
    "        print(\"URL Failed\",link)\n",
    "        continue\n",
    "    \n",
    "    page = r.text\n",
    "    soup = bs(page,'html.parser')\n",
    "    \n",
    "    titleSoup = soup.find_all('div',attrs=({\"class\":\"pathLet\"}))[0]\n",
    "    title=titleSoup.find(\"span\").text\n",
    "    \n",
    "    awards = soup.find_all('div', attrs={'class':'rankingce1101'})\n",
    "    \n",
    "    if len(awards)<1:\n",
    "        continue\n",
    "    \n",
    "    yearValue = [y for y in yearValue if yearValue.index(y)%2==0]\n",
    "    rank=[r for r in yearValue if yearValue.index(r)%2==1]\n",
    "    \n",
    "    for ward in awards:\n",
    "        i=awards.index(ward)\n",
    "        data=[title,war.text,year[i].text,rank[i].text]\n",
    "        print(\",\".join(data),file=open(\"chapter8Data.csv\",\"a\"))\n",
    "    "
   ]
  },
  {
   "cell_type": "markdown",
   "id": "2022f87a",
   "metadata": {},
   "source": [
    "# Basics of Natural Language Processing(NLP)\n",
    "**Lemma**-> any word as found in a dictionary.<br>\n",
    "**Stem**-> Root word.<br>\n",
    "**Tokenization**-> taking a string and seperating every word(token) into a list."
   ]
  },
  {
   "cell_type": "code",
   "execution_count": null,
   "id": "92b0696e",
   "metadata": {},
   "outputs": [],
   "source": [
    "import nltk\n",
    "#nltk.download('averaged_perceptron_tagger')\n",
    "\n",
    "from nltk import word_tokenize, pos_tag\n",
    "from nltk.stem.wordnet import WordNetLemmatier\n",
    "from nltk.stem.porter import PorterStemmer\n",
    "\n",
    "lem = WordNetLemmatizer()\n",
    "stem = PorterStemmer()\n",
    "\n",
    "print(lem.lemmatize(\"dancing\",\"v\"))\n",
    "print(stem.stem(\"dancing\"))\n",
    "\n",
    "phrase = \"Today I started learning NLP!\"\n",
    "tokens = word_tokenize(phrase)\n",
    "\n",
    "print(tokens)\n",
    "print(pos_tag(tokens))\n"
   ]
  },
  {
   "cell_type": "markdown",
   "id": "0c5073ab",
   "metadata": {},
   "source": [
    "**DENOISING**->Removing unnecessary words that may make it harder for analysis to find patterns.<br>**N-gram**->Combining sets of words together in sequence for later a type of statistical analysis."
   ]
  },
  {
   "cell_type": "code",
   "execution_count": null,
   "id": "3caf3a3b",
   "metadata": {},
   "outputs": [],
   "source": [
    "from nltk.corpus import gutenberg\n",
    "from nltk import ngrams\n",
    "from nltk import sentiment\n",
    "\n",
    "def removeNoise(input_text):\n",
    "  noise_list = [\"is\",\"a\",\"this\",\"...\"]\n",
    "  words=input_text.split()\n",
    "  noise_free_words = [word for word in words if word not in noise_list]\n",
    "  noise_free_text = \" \".join(noise_free_words)\n",
    "  return noise_free_text\n",
    "\n",
    "nltk.corpus.gutenberg.fileids()\n",
    "macbeth_sentences = gutenberg.sents('shakespeare-macbeth.txt')\n",
    "senti=nltk.sentiment.sentiment_analyzer.SentimentAnalyzer(\"Test\")\n",
    "print(senti)\n",
    "\n",
    "print(type(macbeth_sentences[9]))\n",
    "print(macbeth_sentences[9])\n",
    "print(\" \".join(macbeth_sentences[9]))\n",
    "\n",
    "grams = ngrams(macbeth_sentences[9],2)\n",
    "for g in grams:\n",
    "  print(g)\n",
    "\n",
    "macbeth = gutenberg.raw('shakespeare-macbeth.txt')\n",
    "macbeth = removeNoise(macbeth)"
   ]
  },
  {
   "cell_type": "markdown",
   "id": "9e711624",
   "metadata": {},
   "source": [
    "#### Introduction to Sentiment Analysis\n",
    "**Sentiment Analysis**->Algorithm that predicts the emotional content of a piece of text(positive,negative,neutral , compound)<br>\n",
    "**TF_IDF**(Term Frequency - Independent Document Frequency):->Calculates word novelty by comparing the frequency a given all words across all of the documents."
   ]
  },
  {
   "cell_type": "code",
   "execution_count": null,
   "id": "675bcd8e",
   "metadata": {},
   "outputs": [],
   "source": [
    "### NLP Basics is incomplete due to some juypter notebook error"
   ]
  },
  {
   "cell_type": "markdown",
   "id": "0e72487c",
   "metadata": {},
   "source": [
    "# Introdction to Machine Learning\n",
    "**ML**->\"Learning\" through a ststistical loop that adjusts and make corrections over a large amount of iterations.<br>\n",
    "**Training**->Data you use toteach your algorithm what you want it to learn.<br>\n",
    "**Teating**->Subset of data you keep aside to test if your algorithms performance.\n",
    "\n",
    "## Three types of machine learning<br>\n",
    "### 1.Supervised Learning\n",
    "**Classification and regression problems.**<br><br>\n",
    "**Data has labels/outcomes you can use to help correct your algorithm**<br><br>\n",
    "**Common types:Support vector machines,random forest,naive Bayes**<br><br>\n",
    "### 2.Unsupervised Learning\n",
    "**Clustering and association problems**<br>\n",
    "**Data has no labels, so you look to see what features appear to work together or are related to each other**<br>\n",
    "**Common types: K-means clustering,hidden Markov models**\n",
    " \n",
    "### 3.Reinforcement Learning\n",
    "**Can do supervised task without labelling.<br>Unsupervised model focused on solving performance problems.<br>Common types:Monte Crlo,evolutionary algorithms.**\n",
    "\n",
    "### Intoduction to Random Forest Modelling::\n",
    "**Decision node**->When a node splits further sub-nodes.<br>\n",
    "**Terminal node**->Node that does not split.<br>\n",
    "**Splitting**->Process of dividing decision node.<br>\n",
    "**Pruning**->Removing sub-nodes from a decision node.<br>\n",
    "\n",
    "### Introduction to Deep Learning\n",
    "**Deep learning**->A typr of ml that is modeled after around how we think brains organize and operate.<br>\n",
    "**Good for:** unsupervised problems where behaviour can change at any given point.\"*INTELLEGENT LEARNING*\"<br><br>\n",
    "It has three layes , input layer , hidden layer and output layer."
   ]
  },
  {
   "cell_type": "markdown",
   "id": "cfc56c6c",
   "metadata": {},
   "source": [
    "# Python Styling Guidelines\n",
    "**Style Guidelines**->ways to format your code that are universally accepeted by the community.<br>\n",
    "**PEP 8**->https://www.python.org/dev/peps/pep-0008/\n"
   ]
  },
  {
   "cell_type": "code",
   "execution_count": null,
   "id": "1089508c",
   "metadata": {},
   "outputs": [],
   "source": [
    "# Indentation (4 spaces)\n",
    "\n",
    "# Long lines (79 characteers):\n",
    "foo = long_function_name{\n",
    "    var_one,var_two,\n",
    "    var_three,var_four}\n",
    "\n",
    "## Whitespaces conventions\n",
    "a = 1 + 2\n",
    "\n",
    "if a > 3:\n",
    "    pass\n",
    "\n",
    "b = (2+3) +(1+a)\n",
    "\n",
    "## Imports\n",
    "import os\n",
    "import sys\n",
    "\n",
    "#NOT : import os,sys\n",
    "\n",
    "## Naming conventions\n",
    "# Mixed:addToCart()\n",
    "#lowercase_with_underscores()\n",
    "#UPPERCASE_WITH_UNDERSCORES()\n",
    "\n",
    "##CONSTANTS:\n",
    "#ALL caps\n",
    "TOTAL_FILES = 20\n",
    "\n",
    "##Functions\n",
    "#Mixed or lowercase with underscores\n",
    "# self should be always be first variable (if variable exist for your function)\n",
    "def myFunction(self):\n",
    "    pass\n",
    "\n",
    "## Variables\n",
    "#mixed or lowercase(follow obverall conventions)"
   ]
  },
  {
   "cell_type": "markdown",
   "id": "526b770e",
   "metadata": {},
   "source": [
    "# Navigate Directories and os Package\n",
    "\n",
    "**Directory**->A location in your computer where files are stored.<br>**Current directory**->The location the user is working in presently.<br>**Child diectory**->A sub directory. A directory below the current directory.<br>**Parent directory**-> A directory above the current directory."
   ]
  },
  {
   "cell_type": "code",
   "execution_count": null,
   "id": "bc328e9f",
   "metadata": {},
   "outputs": [],
   "source": [
    "import os\n",
    "\n",
    "print(os.getcwd())\n",
    "#C:\\Users\\shukl\\Desktop\\Python_Data_Science (print result)\n",
    "print(os.listdir())\n",
    "\n",
    "path = 'C:\\Users\\shukl\\Desktop'\n",
    "\n",
    "#os.chdir(path) #change dire. to desktop\n"
   ]
  },
  {
   "cell_type": "markdown",
   "id": "97326980",
   "metadata": {},
   "source": [
    "# Create a Class Type\n",
    "**Class Attribute**-> Variables stored in your object.<br>**Class Method**->A function that can be run on your object.\n"
   ]
  },
  {
   "cell_type": "code",
   "execution_count": null,
   "id": "ee218ee6",
   "metadata": {},
   "outputs": [],
   "source": [
    "class firstClass():\n",
    "    test = \"Yay\"\n",
    "    def helloMethod(self):\n",
    "        print(\"method\")\n",
    "        \n",
    "#a = firstClass()\n"
   ]
  },
  {
   "cell_type": "code",
   "execution_count": null,
   "id": "0a6b75b5",
   "metadata": {},
   "outputs": [],
   "source": []
  },
  {
   "cell_type": "code",
   "execution_count": null,
   "id": "d9b55b59",
   "metadata": {},
   "outputs": [],
   "source": []
  }
 ],
 "metadata": {
  "kernelspec": {
   "display_name": "Python 3 (ipykernel)",
   "language": "python",
   "name": "python3"
  },
  "language_info": {
   "codemirror_mode": {
    "name": "ipython",
    "version": 3
   },
   "file_extension": ".py",
   "mimetype": "text/x-python",
   "name": "python",
   "nbconvert_exporter": "python",
   "pygments_lexer": "ipython3",
   "version": "3.10.9"
  }
 },
 "nbformat": 4,
 "nbformat_minor": 5
}
